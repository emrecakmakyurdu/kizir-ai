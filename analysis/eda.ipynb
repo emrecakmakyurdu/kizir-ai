{
 "cells": [
  {
   "cell_type": "markdown",
   "metadata": {},
   "source": [
    "This notebook should examine the merged data under \"/data/merged\".\n",
    "- \"Semester\" column has different values.\n",
    "- \"Program Code\" can be converted from float to integer.\n",
    "- \"Program Short Name\" can be interpolated, i.e., filled with IS for 901.\n",
    "- \"Course Name\" may have string literals, which must be omitted.\n",
    "- \"Instructor Name\" encoding must be fixed.\n",
    "- \"Instructor Title\" should either be dropped or merged with \"Instructor Name\".\n",
    "- \"Course Objectives\" has meaningless keywords that must be removed, e.g. \"toO1:\"\n",
    "- \"Prerequisite\" has \"Set 1:\" keyword that must be removed."
   ]
  },
  {
   "cell_type": "code",
   "execution_count": null,
   "metadata": {
    "vscode": {
     "languageId": "plaintext"
    }
   },
   "outputs": [],
   "source": []
  }
 ],
 "metadata": {
  "language_info": {
   "name": "python"
  }
 },
 "nbformat": 4,
 "nbformat_minor": 2
}
